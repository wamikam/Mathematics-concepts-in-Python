{
 "cells": [
  {
   "cell_type": "code",
   "execution_count": 3,
   "metadata": {},
   "outputs": [],
   "source": [
    "import random\n",
    "\n",
    "INTERVAL = 1000\n",
    "\n",
    "circle_points = 0\n",
    "square_points = 0"
   ]
  },
  {
   "cell_type": "code",
   "execution_count": 4,
   "metadata": {},
   "outputs": [],
   "source": [
    "# Total Random numbers generated= possible x\n",
    "# values* possible y values\n",
    "for i in range(INTERVAL**2):\n",
    "\n",
    "    # Randomly generated x and y values from a\n",
    "    # uniform distribution\n",
    "    # Range of x and y values is -1 to 1\n",
    "    rand_x = random.uniform(-1, 1)\n",
    "    rand_y = random.uniform(-1, 1)\n",
    "\n",
    "    # Distance between (x, y) from the origin\n",
    "    origin_dist = rand_x**2 + rand_y**2\n",
    "\n",
    "    # Checking if (x, y) lies inside the circle\n",
    "    if origin_dist <= 1:\n",
    "        circle_points += 1\n",
    "\n",
    "    square_points += 1\n",
    "\n",
    "    # Estimating value of pi,\n",
    "    # pi= 4*(no. of points generated inside the\n",
    "    # circle)/ (no. of points generated inside the square)\n",
    "    pi = 4 * circle_points / square_points"
   ]
  },
  {
   "cell_type": "code",
   "execution_count": 5,
   "metadata": {},
   "outputs": [
    {
     "name": "stdout",
     "output_type": "stream",
     "text": [
      "Final Estimation of Pi= 3.139992\n"
     ]
    }
   ],
   "source": [
    "##    print(rand_x, rand_y, circle_points, square_points, \"-\", pi)\n",
    "# print(\"\\n\")\n",
    "\n",
    "print(\"Final Estimation of Pi=\", pi)"
   ]
  },
  {
   "cell_type": "code",
   "execution_count": null,
   "metadata": {},
   "outputs": [],
   "source": []
  },
  {
   "cell_type": "code",
   "execution_count": null,
   "metadata": {},
   "outputs": [],
   "source": []
  },
  {
   "cell_type": "code",
   "execution_count": null,
   "metadata": {},
   "outputs": [],
   "source": []
  },
  {
   "cell_type": "code",
   "execution_count": null,
   "metadata": {},
   "outputs": [],
   "source": []
  },
  {
   "cell_type": "code",
   "execution_count": null,
   "metadata": {},
   "outputs": [],
   "source": []
  },
  {
   "cell_type": "code",
   "execution_count": null,
   "metadata": {},
   "outputs": [],
   "source": []
  }
 ],
 "metadata": {
  "kernelspec": {
   "display_name": "Python 3",
   "language": "python",
   "name": "python3"
  },
  "language_info": {
   "codemirror_mode": {
    "name": "ipython",
    "version": 3
   },
   "file_extension": ".py",
   "mimetype": "text/x-python",
   "name": "python",
   "nbconvert_exporter": "python",
   "pygments_lexer": "ipython3",
   "version": "3.8.3"
  }
 },
 "nbformat": 4,
 "nbformat_minor": 4
}
