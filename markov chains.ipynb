{
 "cells": [
  {
   "cell_type": "code",
   "execution_count": 1,
   "metadata": {},
   "outputs": [
    {
     "name": "stdout",
     "output_type": "stream",
     "text": [
      "C:\\Users\\Wamika\n"
     ]
    }
   ],
   "source": [
    "import os\n",
    "cwd = os.getcwd()\n",
    "print(cwd)"
   ]
  },
  {
   "cell_type": "code",
   "execution_count": 3,
   "metadata": {},
   "outputs": [],
   "source": [
    "import numpy as np\n",
    "import pandas as pd\n",
    "import matplotlib as pyplot"
   ]
  },
  {
   "cell_type": "code",
   "execution_count": 4,
   "metadata": {},
   "outputs": [],
   "source": [
    "#predict weather outcomes with original 3 states of weather defined\n",
    "states = [\"Sunny\", \"Cloudy\", \"Rainy\"]"
   ]
  },
  {
   "cell_type": "code",
   "execution_count": 5,
   "metadata": {},
   "outputs": [],
   "source": [
    "transition_matrix = [\n",
    "    [0.7, 0.2, 0.1],  # From Sunny to [Sunny, Cloudy, Rainy]\n",
    "    [0.3, 0.4, 0.3],  # From Cloudy to [Sunny, Cloudy, Rainy]\n",
    "    [0.2, 0.3, 0.5]   # From Rainy to [Sunny, Cloudy, Rainy]\n",
    "]\n",
    "# Note that all probabilties in a single row in matrix add upto 1"
   ]
  },
  {
   "cell_type": "code",
   "execution_count": 9,
   "metadata": {},
   "outputs": [
    {
     "name": "stdout",
     "output_type": "stream",
     "text": [
      "['Sunny', 'Sunny', 'Sunny', 'Cloudy', 'Cloudy', 'Cloudy', 'Rainy', 'Rainy', 'Cloudy', 'Cloudy', 'Cloudy']\n"
     ]
    }
   ],
   "source": [
    "# Set initial state\n",
    "current_state = 0  # Let's start with \"Sunny\"\n",
    "\n",
    "# Simulate transitions\n",
    "def next_state(current_state, transition_matrix):\n",
    "    return np.random.choice([0, 1, 2], p=transition_matrix[current_state])\n",
    "\n",
    "days = 10\n",
    "weather_forecast = [states[current_state]]\n",
    "\n",
    "for _ in range(days):\n",
    "    current_state = next_state(current_state, transition_matrix)\n",
    "    weather_forecast.append(states[current_state])\n",
    "\n",
    "print(weather_forecast)"
   ]
  },
  {
   "cell_type": "code",
   "execution_count": 10,
   "metadata": {},
   "outputs": [
    {
     "data": {
      "image/png": "[encoded data removed]",
      "text/plain": [
       "<Figure size 720x432 with 1 Axes>"
      ]
     },
     "metadata": {
      "needs_background": "light"
     },
     "output_type": "display_data"
    }
   ],
   "source": [
    "#simulate markov chains\n",
    "days = 1000\n",
    "weather_forecast = [states[current_state]]\n",
    "\n",
    "for _ in range(days):\n",
    "    current_state = next_state(current_state, transition_matrix)\n",
    "    weather_forecast.append(states[current_state])\n",
    "\n",
    "# Visualize the results\n",
    "import matplotlib.pyplot as plt\n",
    "\n",
    "plt.figure(figsize=(10, 6))\n",
    "plt.hist(weather_forecast, bins=range(len(states) + 1), align='left', rwidth=0.8)\n",
    "plt.xticks(range(len(states)), states)\n",
    "plt.xlabel(\"Weather States\")\n",
    "plt.ylabel(\"Frequency\")\n",
    "plt.title(\"Weather Simulation Over 1000 Days\")\n",
    "plt.show()"
   ]
  },
  {
   "cell_type": "code",
   "execution_count": 12,
   "metadata": {},
   "outputs": [
    {
     "name": "stdout",
     "output_type": "stream",
     "text": [
      "['Sunny', 'Cloudy', 'Rainy']\n",
      "[0.45652174 0.2826087  0.26086957]\n"
     ]
    }
   ],
   "source": [
    "#Calculating Steady-State Distribution\n",
    "\n",
    "# Convert the transition matrix to a NumPy array\n",
    "transition_matrix = np.array(transition_matrix)\n",
    "\n",
    "# Calculate the steady-state distribution\n",
    "eigenvalues, eigenvectors = np.linalg.eig(transition_matrix.T)\n",
    "steady_state = eigenvectors[:, np.isclose(eigenvalues, 1)]\n",
    "\n",
    "# Normalize the steady-state distribution\n",
    "steady_state = steady_state / steady_state.sum()\n",
    "\n",
    "print(states)\n",
    "print(steady_state.real.flatten())"
   ]
  },
  {
   "cell_type": "code",
   "execution_count": null,
   "metadata": {},
   "outputs": [],
   "source": []
  },
  {
   "cell_type": "code",
   "execution_count": null,
   "metadata": {},
   "outputs": [],
   "source": []
  },
  {
   "cell_type": "code",
   "execution_count": null,
   "metadata": {},
   "outputs": [],
   "source": []
  },
  {
   "cell_type": "code",
   "execution_count": null,
   "metadata": {},
   "outputs": [],
   "source": []
  },
  {
   "cell_type": "code",
   "execution_count": null,
   "metadata": {},
   "outputs": [],
   "source": []
  },
  {
   "cell_type": "code",
   "execution_count": null,
   "metadata": {},
   "outputs": [],
   "source": []
  },
  {
   "cell_type": "code",
   "execution_count": null,
   "metadata": {},
   "outputs": [],
   "source": []
  }
 ],
 "metadata": {
  "kernelspec": {
   "display_name": "Python 3",
   "language": "python",
   "name": "python3"
  },
  "language_info": {
   "codemirror_mode": {
    "name": "ipython",
    "version": 3
   },
   "file_extension": ".py",
   "mimetype": "text/x-python",
   "name": "python",
   "nbconvert_exporter": "python",
   "pygments_lexer": "ipython3",
   "version": "3.8.3"
  }
 },
 "nbformat": 4,
 "nbformat_minor": 4
}
